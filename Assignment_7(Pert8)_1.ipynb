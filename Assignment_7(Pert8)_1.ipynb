{
  "nbformat": 4,
  "nbformat_minor": 0,
  "metadata": {
    "colab": {
      "name": "Assignment 7(Pert8)_1.ipynb",
      "provenance": [],
      "authorship_tag": "ABX9TyO1yhhkdN3hYUM9MHkDvVJ9",
      "include_colab_link": true
    },
    "kernelspec": {
      "name": "python3",
      "display_name": "Python 3"
    },
    "language_info": {
      "name": "python"
    }
  },
  "cells": [
    {
      "cell_type": "markdown",
      "metadata": {
        "id": "view-in-github",
        "colab_type": "text"
      },
      "source": [
        "<a href=\"https://colab.research.google.com/github/DimasWahyuD/TugasDataMining/blob/main/Assignment_7(Pert8)_1.ipynb\" target=\"_parent\"><img src=\"https://colab.research.google.com/assets/colab-badge.svg\" alt=\"Open In Colab\"/></a>"
      ]
    },
    {
      "cell_type": "code",
      "metadata": {
        "id": "wXHi34TLqd0B"
      },
      "source": [
        "#  Nama  : Dimas Wahyu Damarjati\n",
        "#  NIM   : A11.2018.10871 \n",
        "\n",
        "# Percobaan 1 Assignment 7 Pertemuan 8"
      ],
      "execution_count": 1,
      "outputs": []
    },
    {
      "cell_type": "code",
      "metadata": {
        "id": "G5FeqPj-rbur"
      },
      "source": [
        "import numpy as np"
      ],
      "execution_count": 2,
      "outputs": []
    },
    {
      "cell_type": "code",
      "metadata": {
        "id": "IqM8whkIrm5N"
      },
      "source": [
        "def forwardPass(inputs, weight, bias):\n",
        "  w_sum = np.dot(inputs, weight) + bias\n",
        "\n",
        "  # Linear Activation f(x) = x\n",
        "  act = w_sum\n",
        "\n",
        "  return act"
      ],
      "execution_count": 3,
      "outputs": []
    },
    {
      "cell_type": "code",
      "metadata": {
        "id": "uZIlYdL7rtCj"
      },
      "source": [
        "# PRE-TRAINED Weights & Biases after Training\n",
        "\n",
        "W = np.array([[2.99999928]])\n",
        "b = np.array([1.99999976])"
      ],
      "execution_count": 4,
      "outputs": []
    },
    {
      "cell_type": "code",
      "metadata": {
        "id": "QHpFjg_qrxat"
      },
      "source": [
        "# Initialize Input Data\n",
        "inputs = np.array([[7], [8], [9], [10]])"
      ],
      "execution_count": 5,
      "outputs": []
    },
    {
      "cell_type": "code",
      "metadata": {
        "colab": {
          "base_uri": "https://localhost:8080/"
        },
        "id": "DbyksjLlr0rp",
        "outputId": "78dd0a9f-21fa-43c2-d69b-66a8075b735e"
      },
      "source": [
        "#Output of output Layer\n",
        "o_out = forwardPass(inputs, W, b)\n",
        "\n",
        "print(' Output Layer Output (Linear) ')\n",
        "print('=================================')\n",
        "print(o_out, \"\\n\")"
      ],
      "execution_count": 6,
      "outputs": [
        {
          "output_type": "stream",
          "text": [
            " Output Layer Output (Linear) \n",
            "=================================\n",
            "[[22.99999472]\n",
            " [25.999994  ]\n",
            " [28.99999328]\n",
            " [31.99999256]] \n",
            "\n"
          ],
          "name": "stdout"
        }
      ]
    },
    {
      "cell_type": "code",
      "metadata": {
        "id": "n9OswgVvr_9S"
      },
      "source": [
        ""
      ],
      "execution_count": null,
      "outputs": []
    }
  ]
}